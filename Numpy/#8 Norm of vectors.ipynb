{
 "cells": [
  {
   "cell_type": "markdown",
   "id": "f21803e2",
   "metadata": {},
   "source": [
    "## 📐 Vector Norm: Concept and Definition\n",
    "\n",
    "The calculation of the **length** or **magnitude** of a vector is a frequent operation,  \n",
    "either as a direct step in certain regularization techniques in machine learning 🤖,  \n",
    "or as part of more general operations with vectors and matrices.\n",
    "\n",
    "This length is called the **vector norm**.\n",
    "\n",
    "The length of a vector is **always positive**, except in the case of a **zero vector**  \n",
    "(all elements equal to 0).\n",
    "\n",
    "The norm measures the **distance** of the vector from the origin of the vector space.  \n",
    "For example, for a 3‑element vector, the origin is the point **(0, 0, 0)** 📍.\n",
    "\n",
    "There are different types of norms, each with its own notation and meaning 🧮."
   ]
  },
  {
   "cell_type": "code",
   "execution_count": 2,
   "id": "714ca426",
   "metadata": {},
   "outputs": [
    {
     "name": "stdout",
     "output_type": "stream",
     "text": [
      "Vector shape :  (3,)\n"
     ]
    }
   ],
   "source": [
    "# creating sample datas \n",
    "import numpy as np\n",
    "\n",
    "vector = np.array([22,66,88])\n",
    "print(\"Vector shape : \", vector.shape)"
   ]
  },
  {
   "cell_type": "markdown",
   "id": "853c3ca7",
   "metadata": {},
   "source": [
    "# Manhattan norm (L1 Norm)\n",
    "\n",
    "The Manhattan norm, also known as the taxicab norm or L1 norm, measures the distance between two points by summing the absolute differences of their coordinates. It mimics how a taxi drives through a city grid—moving only orthogonally (vertically and horizontally).\n",
    "\n",
    "The L1 norm gets calculated adding every value of the vector taken with absolute value.\n",
    "\n",
    "The method to calculate this with numpy is : **np.linalg.norm(VECTORVAR, NORMNUMBERHERE1)**\n"
   ]
  },
  {
   "cell_type": "code",
   "execution_count": 3,
   "id": "dc1462f0",
   "metadata": {},
   "outputs": [
    {
     "name": "stdout",
     "output_type": "stream",
     "text": [
      "Manhattan norm of the vector :  176.0\n"
     ]
    }
   ],
   "source": [
    "Norm1 = np.linalg.norm(vector, 1)\n",
    "print(\"Manhattan norm of the vector : \", Norm1)\n"
   ]
  },
  {
   "cell_type": "markdown",
   "id": "a690f070",
   "metadata": {},
   "source": [
    "# 📏 Euclidean Norm (L2 Norm)\n",
    "The Euclidean norm measures the \"straight-line\" distance from the origin to a point in space. It’s founded on pitagora teorem. It's very used in the ai field in the regolarization process\n",
    "\n",
    "L2 norm gets calculated by rooting the sum of the squares of all the values in the vector\n",
    "\n",
    "To calculate L2 in numpy we have to use **np.linalg.norm(vectref, NormNumb2)**\n"
   ]
  },
  {
   "cell_type": "code",
   "execution_count": 6,
   "id": "ee836268",
   "metadata": {},
   "outputs": [
    {
     "name": "stdout",
     "output_type": "stream",
     "text": [
      "Euclidean norm of the vector :  112.18\n"
     ]
    }
   ],
   "source": [
    "Norm2 = np.linalg.norm(vector, 2)\n",
    "print(\"Euclidean norm of the vector : \", round(Norm2,2))"
   ]
  },
  {
   "cell_type": "markdown",
   "id": "6cf3f756",
   "metadata": {},
   "source": [
    "# 📦 Max norm (Norm L∞)\n",
    "The max norm of a vector is the largest absolute value among its components. It is also called the L∞ norm (infinity norm), and it measures the dominance of one component over the others."
   ]
  },
  {
   "cell_type": "code",
   "execution_count": 7,
   "id": "c1b4fa61",
   "metadata": {},
   "outputs": [
    {
     "name": "stdout",
     "output_type": "stream",
     "text": [
      "Max norm :  88.0\n"
     ]
    }
   ],
   "source": [
    "max_norm = np.linalg.norm(vector, np.inf)\n",
    "print(\"Max norm : \", max_norm)"
   ]
  }
 ],
 "metadata": {
  "kernelspec": {
   "display_name": "Python 3",
   "language": "python",
   "name": "python3"
  },
  "language_info": {
   "codemirror_mode": {
    "name": "ipython",
    "version": 3
   },
   "file_extension": ".py",
   "mimetype": "text/x-python",
   "name": "python",
   "nbconvert_exporter": "python",
   "pygments_lexer": "ipython3",
   "version": "3.13.2"
  }
 },
 "nbformat": 4,
 "nbformat_minor": 5
}
