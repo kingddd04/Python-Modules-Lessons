{
 "cells": [
  {
   "cell_type": "markdown",
   "id": "cc277945",
   "metadata": {},
   "source": [
    "# Creating fixed Data arrays , matrices and tensors \n",
    "\n",
    "Using numpy we can create fixed data arrays frequently needed in various scenarios or just if you do not want to create an example manually:\n",
    "\n",
    "#   -How create a matrix filled with zeroes"
   ]
  },
  {
   "cell_type": "code",
   "execution_count": 1,
   "id": "6ccab53d",
   "metadata": {},
   "outputs": [
    {
     "name": "stdout",
     "output_type": "stream",
     "text": [
      "[[0. 0. 0. 0.]\n",
      " [0. 0. 0. 0.]]\n"
     ]
    }
   ],
   "source": [
    "import numpy as np\n",
    "\n",
    "matrix_zeroes = np.zeros((2,4), dtype=np.float32)\n",
    "print(matrix_zeroes)"
   ]
  },
  {
   "cell_type": "markdown",
   "id": "7028f124",
   "metadata": {},
   "source": [
    "##   -How crate an N-dimension array filled with ones"
   ]
  },
  {
   "cell_type": "code",
   "execution_count": 2,
   "id": "3c9a4265",
   "metadata": {},
   "outputs": [
    {
     "name": "stdout",
     "output_type": "stream",
     "text": [
      "[[[1 1]\n",
      "  [1 1]]\n",
      "\n",
      " [[1 1]\n",
      "  [1 1]]]\n"
     ]
    }
   ],
   "source": [
    "tensor_ones = np.ones((2,2,2), dtype=np.int8)\n",
    "print(tensor_ones)"
   ]
  },
  {
   "cell_type": "markdown",
   "id": "db962619",
   "metadata": {},
   "source": [
    "##  - How create a N-dimensional empty array filled with random garbage placeholder elements"
   ]
  },
  {
   "cell_type": "code",
   "execution_count": 4,
   "id": "1a8de447",
   "metadata": {},
   "outputs": [
    {
     "name": "stdout",
     "output_type": "stream",
     "text": [
      "[[['' '']\n",
      "  ['' '']\n",
      "  ['' '']]\n",
      "\n",
      " [['' '']\n",
      "  ['' '']\n",
      "  ['' '']]]\n"
     ]
    }
   ],
   "source": [
    "empty_tensor = np.empty((2,3,2), dtype=str)\n",
    "print(empty_tensor)"
   ]
  },
  {
   "cell_type": "markdown",
   "id": "e7dc779c",
   "metadata": {},
   "source": [
    "## -How create an array made of a simple list of nubers"
   ]
  },
  {
   "cell_type": "code",
   "execution_count": 8,
   "id": "fc006948",
   "metadata": {},
   "outputs": [
    {
     "name": "stdout",
     "output_type": "stream",
     "text": [
      "[ 0.  2.  4.  6.  8. 10.]\n"
     ]
    }
   ],
   "source": [
    "arange_arr = np.arange(0, 11, 2, dtype=np.double) # arange take as arguments start stop step like slicing and eventually dtype\n",
    "print(arange_arr)"
   ]
  },
  {
   "cell_type": "markdown",
   "id": "9418ad47",
   "metadata": {},
   "source": [
    "## - Create an array of numers equally spaced in a certain range between two values"
   ]
  },
  {
   "cell_type": "code",
   "execution_count": 20,
   "id": "2cf11486",
   "metadata": {},
   "outputs": [
    {
     "name": "stdout",
     "output_type": "stream",
     "text": [
      "[0. 1. 2. 3. 4. 5. 6. 7. 8. 9.]\n"
     ]
    }
   ],
   "source": [
    "linspaced_arr = np.linspace(0,9,num=10, dtype=float)  # linspace takes as arguments(startnumb , stopnumb , num= number_of_separator_numbers_between_start_and_stop)\n",
    "print(linspaced_arr)"
   ]
  }
 ],
 "metadata": {
  "kernelspec": {
   "display_name": "Python 3",
   "language": "python",
   "name": "python3"
  },
  "language_info": {
   "codemirror_mode": {
    "name": "ipython",
    "version": 3
   },
   "file_extension": ".py",
   "mimetype": "text/x-python",
   "name": "python",
   "nbconvert_exporter": "python",
   "pygments_lexer": "ipython3",
   "version": "3.13.2"
  }
 },
 "nbformat": 4,
 "nbformat_minor": 5
}
