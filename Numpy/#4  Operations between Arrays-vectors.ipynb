{
 "cells": [
  {
   "cell_type": "markdown",
   "id": "a257eaba",
   "metadata": {},
   "source": [
    "# Operazioni tra vettori \n",
    "\n",
    "In this lesson we will study different operations between vectors , also called array , of various dimensions let's start by the sum of one or more vectors of rank one.\n"
   ]
  },
  {
   "cell_type": "code",
   "execution_count": 14,
   "id": "c6aff542",
   "metadata": {},
   "outputs": [
    {
     "name": "stdout",
     "output_type": "stream",
     "text": [
      "Sum of the two vectors :  [24 36 48 60 72]\n"
     ]
    }
   ],
   "source": [
    "import numpy as np\n",
    "vec1 = np.array([2,3,4,5,6])\n",
    "vec2 = np.array([22,33,44,55,66])\n",
    "sum_of_vectors = vec1 + vec2\n",
    "\n",
    "print(\"Sum of the two vectors : \", sum_of_vectors)"
   ]
  },
  {
   "cell_type": "markdown",
   "id": "13c1fd23",
   "metadata": {},
   "source": [
    "## Difference of two vectors "
   ]
  },
  {
   "cell_type": "code",
   "execution_count": 15,
   "id": "560e515b",
   "metadata": {},
   "outputs": [
    {
     "name": "stdout",
     "output_type": "stream",
     "text": [
      "Difference of the two vectors v2 - v1:  [20 30 40 50 60]\n"
     ]
    }
   ],
   "source": [
    "difference_of_vectors = vec2 - vec1\n",
    "print(\"Difference of the two vectors v2 - v1: \", difference_of_vectors )"
   ]
  },
  {
   "cell_type": "markdown",
   "id": "7232893b",
   "metadata": {},
   "source": [
    "# Moltiplication between vectors "
   ]
  },
  {
   "cell_type": "code",
   "execution_count": 16,
   "id": "c9bb1feb",
   "metadata": {},
   "outputs": [
    {
     "name": "stdout",
     "output_type": "stream",
     "text": [
      "[ 44  99 176 275 396]\n"
     ]
    }
   ],
   "source": [
    "moltiplication_of_vectors = vec1 * vec2\n",
    "print(moltiplication_of_vectors)"
   ]
  },
  {
   "cell_type": "markdown",
   "id": "ce8919e1",
   "metadata": {},
   "source": [
    "## Division Between Vectors "
   ]
  },
  {
   "cell_type": "code",
   "execution_count": 17,
   "id": "40b5355e",
   "metadata": {},
   "outputs": [
    {
     "name": "stdout",
     "output_type": "stream",
     "text": [
      "[11 11 11 11 11]\n"
     ]
    }
   ],
   "source": [
    "division_of_vectors = vec2 // vec1\n",
    "print(division_of_vectors)"
   ]
  },
  {
   "cell_type": "markdown",
   "id": "0be67b7f",
   "metadata": {},
   "source": [
    "## Operations between vectors and scalar "
   ]
  },
  {
   "cell_type": "code",
   "execution_count": 18,
   "id": "eed2dd3f",
   "metadata": {},
   "outputs": [
    {
     "name": "stdout",
     "output_type": "stream",
     "text": [
      "Addition (vec2 + 11): [33 44 55 66 77]\n",
      "Subtraction (vec2 - 11): [11 22 33 44 55]\n",
      "Multiplication (vec2 * 11): [242 363 484 605 726]\n",
      "Integer Division (vec2 // 11): [2 3 4 5 6]\n"
     ]
    }
   ],
   "source": [
    "vec_add_scalar = vec2 +11\n",
    "vec_diff_scalar = vec2 -11\n",
    "vec_molt_scalar = vec2 * 11\n",
    "vec_div_scalar = vec2 // 11\n",
    "\n",
    "print(\"Addition (vec2 + 11):\", vec_add_scalar)\n",
    "print(\"Subtraction (vec2 - 11):\", vec_diff_scalar)\n",
    "print(\"Multiplication (vec2 * 11):\", vec_molt_scalar)\n",
    "print(\"Integer Division (vec2 // 11):\", vec_div_scalar)"
   ]
  }
 ],
 "metadata": {
  "kernelspec": {
   "display_name": "Python 3",
   "language": "python",
   "name": "python3"
  },
  "language_info": {
   "codemirror_mode": {
    "name": "ipython",
    "version": 3
   },
   "file_extension": ".py",
   "mimetype": "text/x-python",
   "name": "python",
   "nbconvert_exporter": "python",
   "pygments_lexer": "ipython3",
   "version": "3.13.2"
  }
 },
 "nbformat": 4,
 "nbformat_minor": 5
}
