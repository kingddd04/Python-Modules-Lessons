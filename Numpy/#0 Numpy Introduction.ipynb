{
 "cells": [
  {
   "cell_type": "markdown",
   "id": "686297fb",
   "metadata": {},
   "source": [
    "# 📘 What Is NumPy?\n",
    "NumPy (Numerical Python) is the math backbone of python, is a powerful open-source library that provides support for large, multi-dimensional arrays and matrices, along with a collection of mathematical functions to operate on them efficiently and in the fastest way possible since NumPy operations are implemented in C.  Numpy is used in AI for operating on tensors.\n",
    "\n",
    "## 🛠️ How install NumPy with pip?\n",
    "\n",
    "To install Numpy use this cmd command on the windows terminal with python and pip instaled : pip install numpy or if using conda dinstribution : conda install numpy"
   ]
  },
  {
   "cell_type": "code",
   "execution_count": null,
   "id": "de494be0",
   "metadata": {},
   "outputs": [
    {
     "name": "stdout",
     "output_type": "stream",
     "text": [
      "Numpy Version = 2.2.6 \n"
     ]
    }
   ],
   "source": [
    "# Let's start to use any numpy classes , tools and objects we must always inport it in our desired script\n",
    "\n",
    "import numpy as np # by convection numpy is renamed to np\n",
    "print(f\"Numpy Version : {np.__version__} \")      # Let's print the numpy version"
   ]
  }
 ],
 "metadata": {
  "kernelspec": {
   "display_name": "Python 3",
   "language": "python",
   "name": "python3"
  },
  "language_info": {
   "codemirror_mode": {
    "name": "ipython",
    "version": 3
   },
   "file_extension": ".py",
   "mimetype": "text/x-python",
   "name": "python",
   "nbconvert_exporter": "python",
   "pygments_lexer": "ipython3",
   "version": "3.13.2"
  }
 },
 "nbformat": 4,
 "nbformat_minor": 5
}
