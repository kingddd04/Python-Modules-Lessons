{
 "cells": [
  {
   "cell_type": "markdown",
   "id": "f2423b95",
   "metadata": {},
   "source": [
    "# Matrix Decomposition: What Does It Mean?\n",
    "\n",
    "Decomposing a matrix means representing it as the product of simpler matrices.  \n",
    "This is analogous to integer factorization (for example, 12 = 3 × 4).  \n",
    "Similarly, a matrix **A** can be factored into simpler matrices which, when multiplied together,  \n",
    "reconstruct **A**.\n",
    "\n",
    "## Why Use Decomposition?\n",
    "\n",
    "- **Reduces computational cost**  \n",
    "- **Improves numerical stability** in calculations  \n",
    "- **Enables complex problems** to be solved more efficiently\n",
    "\n",
    "#### LU Decomposition\n",
    "\n",
    "**Definition**  \n",
    "LU decomposition factors a square matrix **A** into the product of two matrices:\n",
    "\n",
    "- **L** → Lower triangular matrix (with 1s on the diagonal)  \n",
    "- **U** → Upper triangular matrix\n",
    "\n",
    "**Purpose**  \n",
    "- Solve systems of linear equations efficiently  \n",
    "- Avoid computing the inverse of a matrix directly  \n",
    "- Improve numerical stability in some algorithms  \n",
    "- Quickly compute determinants (as the product of diagonal entries of **U**)\n",
    "\n",
    "**Key Points**  \n",
    "- Works best for **non-singular** square matrices  \n",
    "- Sometimes combined with a permutation matrix **P** for pivoting (see LUP decomposition)  \n",
    "- The process is based on Gaussian elimination\n",
    "\n",
    "#### Matrix Decomposition: LUP Decomposition\n",
    "\n",
    "**Definition**  \n",
    "Let **A** be an invertible matrix. Then **A** can be decomposed as:  \n",
    "- **P** → a permutation matrix  \n",
    "- **L** → a lower triangular matrix  \n",
    "- **U** → an upper triangular matrix  \n",
    "\n",
    "**Explanation**  \n",
    "During the decomposition, the rows of the original matrix are rearranged to simplify calculations.  \n",
    "The permutation matrix **P** is used to indicate how to permute the results and, if needed, return them to the original order.\n",
    "\n",
    "A **permutation matrix** (or permutational matrix) is obtained by swapping certain rows or columns of the identity matrix."
   ]
  },
  {
   "cell_type": "code",
   "execution_count": 5,
   "id": "734de8e1",
   "metadata": {},
   "outputs": [
    {
     "name": "stdout",
     "output_type": "stream",
     "text": [
      "Lower Triangular :\n",
      " [[1.         0.        ]\n",
      " [0.33333333 1.        ]]\n",
      "Upper Triangular :\n",
      " [[3.         4.        ]\n",
      " [0.         1.66666667]]\n",
      "Permutation matrix : \n",
      " [[0. 1.]\n",
      " [1. 0.]]\n",
      "Original matrix A :\n",
      " [[1. 3.]\n",
      " [3. 4.]]\n"
     ]
    }
   ],
   "source": [
    "\"\"\"\n",
    "Lup Deomposition\n",
    "\"\"\"\n",
    "import numpy as np\n",
    "from scipy.linalg import lu\n",
    "\n",
    "# Example matrix\n",
    "A = np.array([[1, 3], [3, 4]])\n",
    "\n",
    "\n",
    "P , L , U = lu(A)\n",
    "print(\"Lower Triangular :\\n\", L )\n",
    "print(\"Upper Triangular :\\n\", U )\n",
    "print(\"Permutation matrix : \\n\", P)\n",
    "\n",
    "print (\"Original matrix A :\\n\" , P @ L @ U) # The order is fixed inverting this order will not get you the original matrix"
   ]
  },
  {
   "cell_type": "markdown",
   "id": "e92e06b8",
   "metadata": {},
   "source": [
    "# QR Decomposition: Orthogonal Matrix\n",
    "\n",
    "**Definition**  \n",
    "An orthogonal matrix **Q** is a square matrix that satisfies the following fundamental conditions:\n",
    "\n",
    "**Properties**  \n",
    "- The rows and columns of **Q** are **orthonormal vectors** (i.e., mutually perpendicular and of unit length).  \n",
    "- The inverse of **Q** equals its transpose:  \n",
    "- Multiplication by **Q** preserves lengths and angles: it does **not** scale or distort vectors, but can rotate or reflect them.\n",
    "\n",
    "**Example**  \n",
    "A **rotation matrix** is an example of an orthogonal matrix."
   ]
  },
  {
   "cell_type": "code",
   "execution_count": null,
   "id": "58b9eba1",
   "metadata": {},
   "outputs": [],
   "source": [
    "# Example matrix (3x2)\n",
    "A = np.array([[1, 2],\n",
    "              [3, 4],\n",
    "              [5, 6]])\n",
    "\n",
    "# Perform QR decomposition - complete mode (Q is m x m)\n",
    "Q, R = np.linalg.qr(A, mode='complete')\n",
    "\n",
    "print(\"Orthogonal matrix Q (m x m):\\n\", Q)\n",
    "print(\"\\nUpper triangular matrix R (m x n):\\n\", R)"
   ]
  },
  {
   "cell_type": "markdown",
   "id": "ac8ffcfe",
   "metadata": {},
   "source": [
    "# Cholesky Decomposition\n",
    "\n",
    "**Definition**  \n",
    "The Cholesky can be used on a **symmetric,square, positive-definite** matrix A following the formula\n",
    "\n",
    "A = L*Lt \n",
    "\n",
    "where :\n",
    "- **L** is a lower triangular matrix with positive diagonal entries  \n",
    "- Lt is the transpose of **L**\n",
    "\n",
    "\n",
    "**Properties**  \n",
    "- Only works for **symmetric, square ,positive-definite** matrices  \n",
    "- More efficient than LU decomposition for this case  \n",
    "- Useful in solving systems of linear equations, Monte Carlo simulations, and optimization\n",
    "\n",
    "**It is particularly useful for:**  \n",
    "- Solving linear systems in the least squares sense (e.g., linear regression)  \n",
    "- Optimization and simulation algorithms  \n",
    "\n",
    "For symmetric and positive‑definite matrices, the Cholesky decomposition is roughly **twice as efficient** as LU decomposition.\n"
   ]
  },
  {
   "cell_type": "code",
   "execution_count": 6,
   "id": "95108788",
   "metadata": {},
   "outputs": [
    {
     "name": "stdout",
     "output_type": "stream",
     "text": [
      "Lower triangular matrix L:\n",
      " [[1.41421356 0.        ]\n",
      " [0.70710678 0.70710678]]\n",
      "\n",
      "Reconstructed matrix A (L · Lᵀ):\n",
      " [[2. 1.]\n",
      " [1. 1.]]\n"
     ]
    }
   ],
   "source": [
    "# Define a symmetric, positive-definite matrix\n",
    "A = np.array([[2, 1],\n",
    "              [1, 1]])\n",
    "\n",
    "# Perform Cholesky decomposition\n",
    "L = np.linalg.cholesky(A)\n",
    "\n",
    "# Print the lower triangular matrix L\n",
    "print(\"Lower triangular matrix L:\\n\", L)\n",
    "\n",
    "# Reconstruct the original matrix A using L · Lᵀ\n",
    "A_reconstructed = L @ L.T\n",
    "print(\"\\nReconstructed matrix A (L · Lᵀ):\\n\", A_reconstructed)"
   ]
  }
 ],
 "metadata": {
  "kernelspec": {
   "display_name": "Python 3",
   "language": "python",
   "name": "python3"
  },
  "language_info": {
   "codemirror_mode": {
    "name": "ipython",
    "version": 3
   },
   "file_extension": ".py",
   "mimetype": "text/x-python",
   "name": "python",
   "nbconvert_exporter": "python",
   "pygments_lexer": "ipython3",
   "version": "3.13.2"
  }
 },
 "nbformat": 4,
 "nbformat_minor": 5
}
