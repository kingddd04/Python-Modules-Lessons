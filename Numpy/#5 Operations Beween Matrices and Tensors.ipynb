{
 "cells": [
  {
   "cell_type": "markdown",
   "id": "eebf3f89",
   "metadata": {},
   "source": [
    "## Operations Beween Matrices\n",
    "\n",
    "Now let's see operation between matrices is more or less the same as the operations with the vectors for addiction and subtraction and a bit different for moltiplication and division, sice in this case the two last operation do not get operated in the exact same way, but each element is operated in the opposite dimension, each element in the result is computed as the dot product of a row Matrix A and a column from matrix B. For example x 2 gets multiplied with y 2 of the other matrix.\n",
    "IMPORTANT NOTE MATRICES MOLTIPLICATION DOES NOT BROADCAST.\n",
    "But let's start from the basics, addiction and subtraction.\n",
    "\n",
    "\n",
    "#### As always let's create sample datas"
   ]
  },
  {
   "cell_type": "code",
   "execution_count": 28,
   "id": "8e48ad84",
   "metadata": {},
   "outputs": [],
   "source": [
    "import numpy as np\n",
    "\n",
    "A = np.array([[1, 2, 22],\n",
    "              [3, 4, 78]])\n",
    "\n",
    "B = np.array([[12, 21],\n",
    "              [30, 48],\n",
    "              [21,32]])\n",
    "\n",
    "C = np.array([[10,10,22],\n",
    "             [33,55,22]])\n",
    "\n",
    "D =  np.array([2,3,4])"
   ]
  },
  {
   "cell_type": "markdown",
   "id": "f09f3ae0",
   "metadata": {},
   "source": [
    "# Addiction\n",
    "\n",
    "There are not many differencenses between vectors and matrices or tensors in this context the shape of de two array/vectors must concide!"
   ]
  },
  {
   "cell_type": "code",
   "execution_count": 29,
   "id": "fb2c8799",
   "metadata": {},
   "outputs": [
    {
     "name": "stdout",
     "output_type": "stream",
     "text": [
      "Matrix A + Matrix C =\n",
      " [[ 11  12  44]\n",
      " [ 36  59 100]]\n"
     ]
    }
   ],
   "source": [
    "ac_addicition = A + C\n",
    "print(\"Matrix A + Matrix C =\\n\", ac_addicition )"
   ]
  },
  {
   "cell_type": "markdown",
   "id": "4f39a6dd",
   "metadata": {},
   "source": [
    "# Subtraction\n",
    "\n",
    "Same"
   ]
  },
  {
   "cell_type": "code",
   "execution_count": 30,
   "id": "168e3b69",
   "metadata": {},
   "outputs": [
    {
     "name": "stdout",
     "output_type": "stream",
     "text": [
      "Matrix C - Matrix D =\n",
      " [[ 11  12  44]\n",
      " [ 36  59 100]]\n"
     ]
    }
   ],
   "source": [
    "cd_subtraction = C - D # CD shapes are differents but as you can see the broadcasting work effortless\n",
    "print(\"Matrix C - Matrix D =\\n\", ac_addicition)"
   ]
  },
  {
   "cell_type": "markdown",
   "id": "3ec634cd",
   "metadata": {},
   "source": [
    "## Moltiplication\n",
    "\n",
    "We have multiple ways to moltiplicate two matrices or tensors:\n",
    "- The * operator performs element-by-element multiplication. This means that each element in one array is multiplied directly by the corresponding element in another array. This operation requires that the arrays have the same shape, or that one can be broadcast to match the other.\n",
    "\n",
    "- The @ operator in Python is used for matrix multiplication, and in NumPy it behaves according to the rules of linear algebra. Unlike the * operator, which multiplies arrays element by element, @ performs a structured operation that combines rows and columns to produce a new matrix. This operation is only valid if the **number of columns in A matches the number of rows in B**. That’s the key rule of matrix multiplication."
   ]
  },
  {
   "cell_type": "code",
   "execution_count": 31,
   "id": "fe1b4fdb",
   "metadata": {},
   "outputs": [
    {
     "name": "stdout",
     "output_type": "stream",
     "text": [
      "Matrix A * Matrix B  inverted =\n",
      " [[ 534  821]\n",
      " [1794 2751]]\n",
      "\n",
      "Matrix A * Matrix B  linear =\n",
      " [[  10   20  484]\n",
      " [  99  220 1716]]\n"
     ]
    }
   ],
   "source": [
    "ab_moltiplication_inv = A @ B  # inverted moltiplication\n",
    "print(\"Matrix A * Matrix B  inverted =\\n\", ab_moltiplication_inv)\n",
    "\n",
    "ac_moltiplicazion_lin = A * C # straight element wise operations\n",
    "print(\"\\nMatrix A * Matrix B  linear =\\n\", ac_moltiplicazion_lin)\n"
   ]
  },
  {
   "cell_type": "markdown",
   "id": "1fee6c10",
   "metadata": {},
   "source": [
    "# Division "
   ]
  },
  {
   "cell_type": "code",
   "execution_count": 34,
   "id": "5445e83b",
   "metadata": {},
   "outputs": [
    {
     "name": "stdout",
     "output_type": "stream",
     "text": [
      "Matrix A // Matrix B linear =\n",
      " [[10  5  1]\n",
      " [11 13  0]]\n"
     ]
    }
   ],
   "source": [
    "ca_division_lin = C // A  # inverted moltiplication\n",
    "print(\"Matrix A // Matrix B linear =\\n\", ca_division_lin)\n"
   ]
  },
  {
   "cell_type": "markdown",
   "id": "8e670c4f",
   "metadata": {},
   "source": [
    "# "
   ]
  }
 ],
 "metadata": {
  "kernelspec": {
   "display_name": "Python 3",
   "language": "python",
   "name": "python3"
  },
  "language_info": {
   "codemirror_mode": {
    "name": "ipython",
    "version": 3
   },
   "file_extension": ".py",
   "mimetype": "text/x-python",
   "name": "python",
   "nbconvert_exporter": "python",
   "pygments_lexer": "ipython3",
   "version": "3.13.2"
  }
 },
 "nbformat": 4,
 "nbformat_minor": 5
}
