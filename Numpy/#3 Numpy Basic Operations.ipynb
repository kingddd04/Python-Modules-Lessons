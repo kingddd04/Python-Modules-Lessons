{
 "cells": [
  {
   "cell_type": "markdown",
   "id": "996dda27",
   "metadata": {},
   "source": [
    "# Basic Operations with Arrays \n",
    "We can perform a various range of operations on the arrays to modify them, in this notepad we will explore:\n",
    "- sorting with np.sort(arrayname)\n",
    "- Reshaping trought the .reshape() method \n",
    "- Concatenation with np.concatenate()\n",
    "- Reshape with .reshape()\n",
    "- Adding dimensions with .expand_dims()\n",
    "- Splitting an array in smaller arrays being allowed how and where to split them using split()\n",
    "- Stacking arrays in a new dimension using .stack()\n",
    "- Flattening an array with the method .flatten()"
   ]
  },
  {
   "cell_type": "code",
   "execution_count": 2,
   "id": "ec13b139",
   "metadata": {},
   "outputs": [
    {
     "name": "stdout",
     "output_type": "stream",
     "text": [
      "Example array :  [33 44 55  6  7 21  8]\n",
      "\n",
      "Example matrix :\n",
      " [[ 77  99 100]\n",
      " [ 34  44  87]\n",
      " [102  45  88]]\n"
     ]
    }
   ],
   "source": [
    "# Examples Array Creation\n",
    "import numpy as np \n",
    "\n",
    "arr = np.array([33,44,55,6,7,21,8])\n",
    "matr = np.array([[77,99,100], [34, 44, 87], [102,45,88]])\n",
    "print(\"Example array : \" ,arr )\n",
    "print(\"\\nExample matrix :\\n\", matr)"
   ]
  },
  {
   "cell_type": "markdown",
   "id": "2997dbde",
   "metadata": {},
   "source": [
    "## Sorting Arrays\n",
    "\n",
    "Wa can change the order of an array trought sorting following our needs"
   ]
  },
  {
   "cell_type": "code",
   "execution_count": 3,
   "id": "bbe7ce45",
   "metadata": {},
   "outputs": [
    {
     "name": "stdout",
     "output_type": "stream",
     "text": [
      "\n",
      "Sorted array : \n",
      " [ 6  7  8 21 33 44 55]\n",
      "\n",
      "Sorted matrix : \n",
      " [[ 77  99 100]\n",
      " [ 34  44  87]\n",
      " [ 45  88 102]]\n"
     ]
    }
   ],
   "source": [
    "sorted_arr = np.sort(arr, kind= \"mergesort\") # with kind we can select the sorting algoritm (each with perks and )\n",
    "print(\"\\nSorted array : \\n\", sorted_arr)\n",
    "sorted_matrix = np.sort(matr, axis= 1) # the parameter axis allows us to select in wich axis we want to sort\n",
    "print(\"\\nSorted matrix : \\n\", sorted_matrix)"
   ]
  },
  {
   "cell_type": "markdown",
   "id": "64fb31b3",
   "metadata": {},
   "source": [
    "## Concatenations of arrays\n",
    "\n",
    "We can concatenate arrays in a new array also specifying by what axis, concatenation does not add new dimensions like instead does stacking; it just merge everything in an existing dimension for example [1,2,3] +[1,2,3] = [1,2,3,1,2,3]."
   ]
  },
  {
   "cell_type": "code",
   "execution_count": 4,
   "id": "473d1bed",
   "metadata": {},
   "outputs": [
    {
     "name": "stdout",
     "output_type": "stream",
     "text": [
      "Array Concatenated with itself :  [33 44 55  6  7 21  8 33 44 55  6  7 21  8]\n",
      "\n",
      "Matrix Concatenated with itself by y axis : \n",
      " [[ 77  99 100]\n",
      " [ 34  44  87]\n",
      " [102  45  88]\n",
      " [ 77  99 100]\n",
      " [ 34  44  87]\n",
      " [102  45  88]]\n",
      "\n",
      "Matrix Concatenated with itself by x axis : \n",
      " [[ 77  99 100  77  99 100]\n",
      " [ 34  44  87  34  44  87]\n",
      " [102  45  88 102  45  88]]\n"
     ]
    }
   ],
   "source": [
    "doublearray = np.concatenate([arr, arr]) \n",
    "print(\"Array Concatenated with itself : \", doublearray) # The number of dimensions stay invariated\n",
    "matr_concaty = np.concatenate([matr, matr], axis=0)\n",
    "matr_concatx = np.concatenate([matr,matr], axis=1)\n",
    "print(\"\\nMatrix Concatenated with itself by y axis : \\n\", matr_concaty) #here concatenation happens in the row dimension visually the \"Y\"\n",
    "print(\"\\nMatrix Concatenated with itself by x axis : \\n\", matr_concatx) #here concatenation happens in the row dimension visually the \"X\""
   ]
  },
  {
   "cell_type": "markdown",
   "id": "e74992c1",
   "metadata": {},
   "source": [
    "## Reshaping of an array\n",
    "\n",
    "We can reshape an array to rearrange it's dimensions, but with a limit : TOTAL SIZE CAN NOT CHANGE "
   ]
  },
  {
   "cell_type": "code",
   "execution_count": 5,
   "id": "a0e6af13",
   "metadata": {},
   "outputs": [
    {
     "name": "stdout",
     "output_type": "stream",
     "text": [
      "\n",
      "Matrix before reshaping (4 by 4) :\n",
      " [[1. 1. 1. 1.]\n",
      " [1. 1. 1. 1.]\n",
      " [1. 1. 1. 1.]\n",
      " [1. 1. 1. 1.]]\n",
      "\n",
      "Matrix reshaped to (2,2,2,2) : \n",
      " [[[[1. 1.]\n",
      "   [1. 1.]]\n",
      "\n",
      "  [[1. 1.]\n",
      "   [1. 1.]]]\n",
      "\n",
      "\n",
      " [[[1. 1.]\n",
      "   [1. 1.]]\n",
      "\n",
      "  [[1. 1.]\n",
      "   [1. 1.]]]]\n",
      "\n",
      "Old number of dimensions : 2 New number od dimensions : 4\n",
      "\n",
      "Old shape : (4, 4) New Shape : (2, 2, 2, 2)\n",
      "\n",
      "Old shape : 16 New Shape : 16\n"
     ]
    }
   ],
   "source": [
    "matrix_random = np.ones((4,4))\n",
    "print(\"\\nMatrix before reshaping (4 by 4) :\\n\",matrix_random)\n",
    "matrix_reshaped = matrix_random.reshape(2,2,2,2)\n",
    "print(\"\\nMatrix reshaped to (2,2,2,2) : \\n\", matrix_reshaped)\n",
    "print(f\"\\nOld number of dimensions : {matrix_random.ndim} New number od dimensions : {matrix_reshaped.ndim}\") # NEW Dimensions were added\n",
    "print(f\"\\nOld shape : {matrix_random.shape} New Shape : {matrix_reshaped.shape}\") # shapes have been modifyed\n",
    "print(f\"\\nOld shape : {matrix_random.size} New Shape : {matrix_reshaped.size}\") # total size is unchanged and cannot change and can not be different"
   ]
  },
  {
   "cell_type": "markdown",
   "id": "f1b24b44",
   "metadata": {},
   "source": [
    "## Adding New Axis to an array\n",
    "\n",
    "We can add a new dimension or more than one"
   ]
  },
  {
   "cell_type": "code",
   "execution_count": 6,
   "id": "2eea57d9",
   "metadata": {},
   "outputs": [
    {
     "name": "stdout",
     "output_type": "stream",
     "text": [
      "[[[33]]\n",
      "\n",
      " [[44]]\n",
      "\n",
      " [[55]]\n",
      "\n",
      " [[ 6]]\n",
      "\n",
      " [[ 7]]\n",
      "\n",
      " [[21]]\n",
      "\n",
      " [[ 8]]] (7, 1, 1)\n"
     ]
    }
   ],
   "source": [
    "new_dim_arr= np.expand_dims(arr, axis=[1,2]) # we can add dimensions with an iterable for multipe dimension and the parameter axis=\n",
    "print(new_dim_arr, new_dim_arr.shape)"
   ]
  },
  {
   "cell_type": "markdown",
   "id": "701e06a1",
   "metadata": {},
   "source": [
    "## Stacking arrays\n",
    "\n",
    "Stacking arrays on a new dimension "
   ]
  },
  {
   "cell_type": "code",
   "execution_count": 7,
   "id": "57eb9f2a",
   "metadata": {},
   "outputs": [
    {
     "name": "stdout",
     "output_type": "stream",
     "text": [
      "Stacked_arrays :  [[33 44 55  6  7 21  8]\n",
      " [33 44 55  6  7 21  8]\n",
      " [33 44 55  6  7 21  8]]\n",
      "\n",
      " [[[ 77  99 100]]\n",
      "\n",
      " [[ 34  44  87]]\n",
      "\n",
      " [[102  45  88]]] (3, 1, 3)\n",
      "\n",
      " [[[ 77  99 100]\n",
      "  [ 34  44  87]\n",
      "  [102  45  88]]] (1, 3, 3)\n"
     ]
    }
   ],
   "source": [
    "stacked_arrays = np.stack([arr,arr,arr])\n",
    "print(\"Stacked_arrays : \", stacked_arrays)\n",
    "\n",
    "stacked_matrix_x = np.stack([matr], axis= 1)\n",
    "stacked_matrix_y = np.stack([matr], axis=0)\n",
    "print(\"\\n\", stacked_matrix_x, stacked_matrix_x.shape)\n",
    "print(\"\\n\", stacked_matrix_y, stacked_matrix_y.shape)\n"
   ]
  },
  {
   "cell_type": "markdown",
   "id": "c1a7767e",
   "metadata": {},
   "source": [
    "## Splitting Arrays"
   ]
  },
  {
   "cell_type": "code",
   "execution_count": 8,
   "id": "fe42df3f",
   "metadata": {},
   "outputs": [
    {
     "name": "stdout",
     "output_type": "stream",
     "text": [
      "Splitted Maxtrix by y :  [array([[ 77],\n",
      "       [ 34],\n",
      "       [102]]), array([[99],\n",
      "       [44],\n",
      "       [45]]), array([[100],\n",
      "       [ 87],\n",
      "       [ 88]])]\n",
      "Unevenly splitted Arrays :  [array([33, 44]), array([55,  6]), array([7]), array([21]), array([8])]\n",
      "\n",
      "Chosen array_split :  [array([33]), array([44]), array([55,  6]), array([7]), array([21,  8])]\n"
     ]
    }
   ],
   "source": [
    "splitted_matrix = np.split(matr, 3, axis=1) # splitting the 3 by 3 matrix by columns in 3 equal parts\n",
    "print(\"Splitted Maxtrix by y : \" , splitted_matrix)\n",
    "\n",
    "uevenly_splitted_arrays = np.array_split(arr, 5) # splitting in 5 arrays not necessarly equal\n",
    "print(\"Unevenly splitted Arrays : \" , uevenly_splitted_arrays)\n",
    "\n",
    "chosen_splitted_arr = np.split(arr, [1,2,4,5]) #by adding indexes inside square bracket we can specify where we want the array to be splitted\n",
    "print(\"\\nChosen array_split : \", chosen_splitted_arr)\n",
    "\n"
   ]
  },
  {
   "cell_type": "markdown",
   "id": "98ba7c8e",
   "metadata": {},
   "source": [
    "## Flattening of a multi dimensional array \n",
    "\n",
    "This method helps us to simplify a complex shaped array in one dimension."
   ]
  },
  {
   "cell_type": "code",
   "execution_count": 9,
   "id": "770698d3",
   "metadata": {},
   "outputs": [
    {
     "name": "stdout",
     "output_type": "stream",
     "text": [
      "Flattened Array :  [ 77  99 100  34  44  87 102  45  88]\n"
     ]
    }
   ],
   "source": [
    "flattened_array = matr.flatten()\n",
    "print(\"Flattened Array : \", flattened_array)"
   ]
  }
 ],
 "metadata": {
  "kernelspec": {
   "display_name": "Python 3",
   "language": "python",
   "name": "python3"
  },
  "language_info": {
   "codemirror_mode": {
    "name": "ipython",
    "version": 3
   },
   "file_extension": ".py",
   "mimetype": "text/x-python",
   "name": "python",
   "nbconvert_exporter": "python",
   "pygments_lexer": "ipython3",
   "version": "3.13.2"
  }
 },
 "nbformat": 4,
 "nbformat_minor": 5
}
