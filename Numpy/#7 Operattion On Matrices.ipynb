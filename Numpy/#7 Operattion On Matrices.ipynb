{
 "cells": [
  {
   "cell_type": "markdown",
   "id": "effd9f01",
   "metadata": {},
   "source": [
    "# Operations on Matrixs\n",
    "\n",
    "We can do ton of operations on maxtrix very useful into the data manipulation.\n",
    "As always let's start with the creation of some sample datas."
   ]
  },
  {
   "cell_type": "code",
   "execution_count": 1,
   "id": "2dbea54d",
   "metadata": {},
   "outputs": [],
   "source": [
    "import numpy as np \n",
    "\n",
    "matrix = [\n",
    "    [22,33,44],\n",
    "    [100,99,55],\n",
    "    [66,77,88]\n",
    "]\n",
    "\n",
    "array_matrix = np.array(matrix)"
   ]
  },
  {
   "cell_type": "markdown",
   "id": "a8b5c3f4",
   "metadata": {},
   "source": [
    "# Moltipling a Matrix for a scalar\n",
    "\n",
    "As for vectors we can do this operation to multiply each element for a certain amount."
   ]
  },
  {
   "cell_type": "code",
   "execution_count": 2,
   "id": "429aea36",
   "metadata": {},
   "outputs": [
    {
     "name": "stdout",
     "output_type": "stream",
     "text": [
      "Matrix multiplied by a scalar three :\n",
      " [[ 66  99 132]\n",
      " [300 297 165]\n",
      " [198 231 264]]\n"
     ]
    }
   ],
   "source": [
    "matrix_for_scalar = array_matrix * 3\n",
    "print(\"Matrix multiplied by a scalar three :\\n\", matrix_for_scalar)"
   ]
  },
  {
   "cell_type": "markdown",
   "id": "e048a62d",
   "metadata": {},
   "source": [
    "## 📘 Matrix Algebra: Transposition\n",
    "\n",
    "A defined matrix can be **transposed**, resulting in a new matrix where rows and columns are swapped . Transposition is indicated with a  **T** next to the matrix name:  \n",
    "**C = Aᵀ**\n",
    "\n",
    "A transposed matrix is obtained by transforming each row into a column.  \n",
    "Given a matrix **A** with *m* rows and *n* columns (*m × n*),  \n",
    "the transposed matrix **Aᵀ** will have *n* rows and *m* columns (*n × m*) 🧮."
   ]
  },
  {
   "cell_type": "code",
   "execution_count": 3,
   "id": "bca37293",
   "metadata": {},
   "outputs": [
    {
     "name": "stdout",
     "output_type": "stream",
     "text": [
      "Matrix Transposed :\n",
      " [[ 66 300 198]\n",
      " [ 99 297 231]\n",
      " [132 165 264]]\n"
     ]
    }
   ],
   "source": [
    "transposed_matrix = matrix_for_scalar.T  # T is the method to transpose a matrix\n",
    "print(\"Matrix Transposed :\\n\", transposed_matrix)  "
   ]
  },
  {
   "cell_type": "markdown",
   "id": "52187ca9",
   "metadata": {},
   "source": [
    "## 🔄 Matrix Algebra: Inversion\n",
    "\n",
    "Matrix inversion is the operation that finds another matrix which, when multiplied by the original one, yields the identity matrix 🎯.  \n",
    "Given a matrix **A**, we look for a matrix **B** such that:  \n",
    "**A • B = B • A = Iₙ**\n",
    "\n",
    "The inverse of **A** is denoted with the superscript **−1**:  \n",
    "**B = A⁻¹**\n",
    "\n",
    "A matrix is **invertible** if there exists another matrix that, when multiplied by it, results in the identity matrix.  \n",
    "⚠️ Not all matrices are invertible: a non-invertible square matrix is called **singular**.\n",
    "\n",
    "In practice, inversion is not calculated \"directly\" but rather estimated through efficient numerical methods,  \n",
    "often based on matrix **decompositions** like LU or QR 📐."
   ]
  },
  {
   "cell_type": "code",
   "execution_count": 5,
   "id": "9f415164",
   "metadata": {},
   "outputs": [
    {
     "name": "stdout",
     "output_type": "stream",
     "text": [
      "Matrix Inverted :\n",
      " [[-0.07170543  0.08280479 -0.01867512]\n",
      " [-0.00775194  0.01550388 -0.00775194]\n",
      " [ 0.04069767 -0.05109232  0.0179704 ]]\n"
     ]
    }
   ],
   "source": [
    "inv_matr = np.linalg.inv(transposed_matrix)\n",
    "print(\"Matrix Inverted :\\n\", inv_matr)  "
   ]
  },
  {
   "cell_type": "markdown",
   "id": "de28ab6d",
   "metadata": {},
   "source": [
    "## 📏 Matrix Algebra: Matrix Trace\n",
    "\n",
    "The **trace** of a square matrix is the sum of the elements on its **main diagonal**  \n",
    "(from the top-left corner to the bottom-right corner).  \n",
    "\n",
    "In NumPy, we can calculate the trace of a square matrix using the function:  \n",
    "**`np.trace()`** 🧮"
   ]
  },
  {
   "cell_type": "code",
   "execution_count": 6,
   "id": "3e9cf080",
   "metadata": {},
   "outputs": [
    {
     "name": "stdout",
     "output_type": "stream",
     "text": [
      "Trace of the matrix(array_matrix) = 209\n"
     ]
    }
   ],
   "source": [
    "print(\"Trace of the matrix(array_matrix) =\", np.trace(array_matrix))"
   ]
  }
 ],
 "metadata": {
  "kernelspec": {
   "display_name": "Python 3",
   "language": "python",
   "name": "python3"
  },
  "language_info": {
   "codemirror_mode": {
    "name": "ipython",
    "version": 3
   },
   "file_extension": ".py",
   "mimetype": "text/x-python",
   "name": "python",
   "nbconvert_exporter": "python",
   "pygments_lexer": "ipython3",
   "version": "3.13.2"
  }
 },
 "nbformat": 4,
 "nbformat_minor": 5
}
