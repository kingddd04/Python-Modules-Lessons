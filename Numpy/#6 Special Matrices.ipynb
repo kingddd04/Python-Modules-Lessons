{
 "cells": [
  {
   "cell_type": "markdown",
   "id": "6679d2ea",
   "metadata": {},
   "source": [
    "# Types of matrices\n",
    "\n",
    "In linear algebra there are several types of special matrices each one useful in different fields of the ai/machine_learning word"
   ]
  },
  {
   "cell_type": "code",
   "execution_count": 1,
   "id": "e58c2426",
   "metadata": {},
   "outputs": [],
   "source": [
    "import numpy as np"
   ]
  },
  {
   "cell_type": "markdown",
   "id": "d724f61f",
   "metadata": {},
   "source": [
    "## Square Matrices\n",
    "\n",
    "A **square matrix** is one where the number of rows is equal to the number of columns:\n",
    "This contrasts with a **rectangular matrix**, which has a different number of rows and columns.\n",
    "When rows and columns are the same number the matrix will be called of the order of that number.\n",
    "\n",
    "The elements located along the line from the top-left corner to the bottom-right corner form the **main diagonal**.\n",
    "\n",
    "**Useful related Methods:**\n",
    "- np.linalg.matrix_rank ---> useful to get the rank of the matrix"
   ]
  },
  {
   "cell_type": "code",
   "execution_count": 2,
   "id": "74801b64",
   "metadata": {},
   "outputs": [
    {
     "name": "stdout",
     "output_type": "stream",
     "text": [
      "Square matrix :\n",
      " [[ 2.  4.  0.]\n",
      " [ 1.  3.  5.]\n",
      " [ 7.  0. -1.]]\n",
      "Rank of the matrix :  3\n"
     ]
    }
   ],
   "source": [
    "import numpy as np\n",
    "\n",
    "# 1) Create a 3x3 square matrix (from a Python list of lists)\n",
    "square_matrix = np.array([\n",
    "    [2, 4, 0],\n",
    "    [1, 3, 5],\n",
    "    [7, 0, -1]\n",
    "], dtype=float)\n",
    "\n",
    "print(\"Square matrix :\\n\", square_matrix)\n",
    "print(\"Rank of the matrix : \", np.linalg.matrix_rank(square_matrix))  # we use this method to get the rank of the matrix\n"
   ]
  },
  {
   "cell_type": "markdown",
   "id": "a884c0f7",
   "metadata": {},
   "source": [
    "## 🔁 Symmetric Matrices\n",
    "\n",
    "A **symmetric matrix** is a special type of square matrix in which the upper triangular part is equal to the lower triangular part.\n",
    "\n",
    "- The axis of symmetry is always the **main diagonal**, which runs from the top-left corner to the bottom-right corner.\n",
    "- This means that the element at position (i , y) is equal to the element at position (j, i) for all valid indices.\n",
    "- Some matrices can be symmetric but not square for exaple a rectangular matrix can still be simmetric"
   ]
  },
  {
   "cell_type": "code",
   "execution_count": 4,
   "id": "a0176c6e",
   "metadata": {},
   "outputs": [
    {
     "name": "stdout",
     "output_type": "stream",
     "text": [
      "Symmetric Square matrix:\n",
      " [[3 3 3]\n",
      " [3 3 3]\n",
      " [3 3 3]]\n",
      "\n",
      "Symmetric Rectangular matrix:\n",
      " [[3 3 3 3]\n",
      " [3 3 3 3]\n",
      " [3 3 3 3]\n",
      " [3 3 3 3]]\n"
     ]
    }
   ],
   "source": [
    "import numpy as np\n",
    "\n",
    "symmetric_matrix_square = np.array([\n",
    "    [3, 3, 3],\n",
    "    [3, 3, 3],\n",
    "    [3, 3, 3]\n",
    "])\n",
    "\n",
    "symmetric_matrix_rectang = np.array([\n",
    "    [3, 3, 3, 3],\n",
    "    [3, 3, 3, 3],\n",
    "    [3, 3, 3, 3],\n",
    "    [3, 3, 3, 3]\n",
    "])\n",
    "\n",
    "print(\"Symmetric Square matrix:\\n\", symmetric_matrix_square)\n",
    "print(\"\\nSymmetric Rectangular matrix:\\n\", symmetric_matrix_rectang)"
   ]
  },
  {
   "cell_type": "markdown",
   "id": "c59fcaa5",
   "metadata": {},
   "source": [
    "## 🔺 Triangular Matrices\n",
    "\n",
    "A **triangular matrix** is a special kind of square matrix in which either all elements **above** or **below** the main diagonal are zero.\n",
    "\n",
    "- If all values **below the main diagonal** are zero, it's called an **upper triangular matrix**.\n",
    "- If all values **above the main diagonal** are zero, it's called a **lower triangular matrix**.\n",
    "\n",
    "**--Methods useful for triangular matrices--**\n",
    "- np.tril() → for obtaining lower triangular matrix\n",
    "- np.triu() → for obtaining upper triangular matrix"
   ]
  },
  {
   "cell_type": "code",
   "execution_count": 6,
   "id": "61245e97",
   "metadata": {},
   "outputs": [
    {
     "name": "stdout",
     "output_type": "stream",
     "text": [
      "Lower triangular (square):\n",
      " [[3 0 0]\n",
      " [3 3 0]\n",
      " [3 3 3]]\n",
      "\n",
      "Upper triangular (square):\n",
      " [[3 3 3]\n",
      " [0 3 3]\n",
      " [0 0 3]]\n"
     ]
    }
   ],
   "source": [
    "# Lower triangular\n",
    "triangular_matrix_square_lower = np.array([\n",
    "    [3, 0, 0],\n",
    "    [3, 3, 0],\n",
    "    [3, 3, 3]\n",
    "])\n",
    "print(\"Lower triangular (square):\\n\", triangular_matrix_square_lower)\n",
    "\n",
    "# Upper triangular\n",
    "triangular_matrix_square_upper = np.array([\n",
    "    [3, 3, 3],\n",
    "    [0, 3, 3],\n",
    "    [0, 0, 3]\n",
    "])\n",
    "print(\"\\nUpper triangular (square):\\n\", triangular_matrix_square_upper)"
   ]
  },
  {
   "cell_type": "markdown",
   "id": "9ff26eb0",
   "metadata": {},
   "source": [
    "## 📊 Diagonal Matrices\n",
    "\n",
    "A **diagonal matrix** is one in which all values outside the **main diagonal** are equal to zero.\n",
    "\n",
    "- It is often represented by the letter **D**.\n",
    "- A diagonal matrix can be described either as a full matrix or as a **vector containing just the diagonal elements**.\n",
    "\n",
    "Although diagonal matrices are typically square, it's also possible to define a **diagonal rectangular matrix**, in which the diagonal extends only as far as the **smallest dimension**.\n"
   ]
  },
  {
   "cell_type": "code",
   "execution_count": null,
   "id": "6c467d4c",
   "metadata": {},
   "outputs": [
    {
     "name": "stdout",
     "output_type": "stream",
     "text": [
      "Diagonal matrix (square):\n",
      " [[3 0 0]\n",
      " [0 3 0]\n",
      " [0 0 3]]\n"
     ]
    }
   ],
   "source": [
    "# Square diagonal matrix\n",
    "diagonal_matrix_square = np.diag([3, 3, 3])\n",
    "\n",
    "print(\"Diagonal matrix (square and symmetric):\\n\", diagonal_matrix_square)"
   ]
  },
  {
   "cell_type": "markdown",
   "id": "4bbf351d",
   "metadata": {},
   "source": [
    "## 🧩 Identity Matrix\n",
    "\n",
    "The **identity matrix** is commonly denoted by the letter **I** and has the following features:\n",
    "- All elements along the **main diagonal** are equal to **one**.\n",
    "- All other elements in the matrix are equal to **zero**.\n",
    "- When multiplied by another compatible matrix, it **does not alter its value**."
   ]
  },
  {
   "cell_type": "code",
   "execution_count": 8,
   "id": "28daa8c5",
   "metadata": {},
   "outputs": [
    {
     "name": "stdout",
     "output_type": "stream",
     "text": [
      "Identity matrix (square):\n",
      " [[1 0 0]\n",
      " [0 1 0]\n",
      " [0 0 1]]\n"
     ]
    }
   ],
   "source": [
    "import numpy as np\n",
    "\n",
    "# Square identity matrix (standard)\n",
    "identity_matrix_square = np.identity(3, dtype=int)\n",
    "\n",
    "\n",
    "print(\"Identity matrix (square):\\n\", identity_matrix_square)"
   ]
  }
 ],
 "metadata": {
  "kernelspec": {
   "display_name": "Python 3",
   "language": "python",
   "name": "python3"
  },
  "language_info": {
   "codemirror_mode": {
    "name": "ipython",
    "version": 3
   },
   "file_extension": ".py",
   "mimetype": "text/x-python",
   "name": "python",
   "nbconvert_exporter": "python",
   "pygments_lexer": "ipython3",
   "version": "3.13.2"
  }
 },
 "nbformat": 4,
 "nbformat_minor": 5
}
