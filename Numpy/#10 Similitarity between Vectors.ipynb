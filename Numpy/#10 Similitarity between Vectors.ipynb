{
 "cells": [
  {
   "cell_type": "markdown",
   "id": "aa47f481",
   "metadata": {},
   "source": [
    "# 🔍 Vector Similarity\n",
    "\n",
    "## 📐 Dot Product\n",
    "\n",
    "The **dot product** is a widely used metric for measuring similarity between vectors.  \n",
    "It simultaneously captures:  \n",
    "- **Directional similarity** between two vectors  \n",
    "- **Magnitude (length)** of the vectors themselves  \n",
    "\n",
    "This metric is especially useful when both the direction *and* magnitude of vectors carry meaningful information.\n",
    "\n",
    "\n",
    "### 📊 Interpretation of Dot Product Values\n",
    "\n",
    "The dot product can range from negative infinity to positive infinity, and its value reveals the relationship between vectors:\n",
    "\n",
    "- **Positive values** → Vectors point in similar directions  \n",
    "- **Negative values** → Vectors point in opposite directions  \n",
    "- **Zero** → Vectors are perpendicular (*orthogonal*)  \n",
    "\n",
    "💡 **Tip:** In machine learning and data science, dot product-based similarity is often used in recommendation systems, natural language processing, and clustering algorithms.\n",
    "\n",
    "\n",
    "### 🧮 How to Calculate the Dot Product manually example\n",
    "\n",
    "vect1 = (33 , 75, 59)\n",
    "\n",
    "vect2 = (22, -33, 34)\n",
    "\n",
    "dot_product = (33 * 22) + (75 * -33) + (59 * 34) = 726 - 2475 + 2006 = 257\n",
    "\n",
    "The **larger the dot product**, the **greater the similarity** between the vectors."
   ]
  },
  {
   "cell_type": "code",
   "execution_count": 5,
   "id": "8bd6fba1",
   "metadata": {},
   "outputs": [],
   "source": [
    "# as always sample datas\n",
    "import numpy as np\n",
    "\n",
    "a = np.array([1, 2, 3])\n",
    "b = np.array([4, 5, 6])"
   ]
  },
  {
   "cell_type": "markdown",
   "id": "c954af63",
   "metadata": {},
   "source": [
    "### Method for dot function\n",
    "\n",
    "We can extract the dot product of two vectors in nupy using this numpy function --->  np.dot(a, b)\n"
   ]
  },
  {
   "cell_type": "code",
   "execution_count": 6,
   "id": "a8a3d5b4",
   "metadata": {},
   "outputs": [
    {
     "name": "stdout",
     "output_type": "stream",
     "text": [
      "Dot product: 32\n"
     ]
    }
   ],
   "source": [
    "dot_product = np.dot(a, b)\n",
    "\n",
    "print(\"Dot product:\", dot_product)"
   ]
  },
  {
   "cell_type": "markdown",
   "id": "78ec3fee",
   "metadata": {},
   "source": [
    "## 📐 Cosine Similarity\n",
    "\n",
    "**Cosine similarity** considers only the angle between two vectors, ignoring their magnitude (length/normalization).\n",
    "\n",
    "To compute it, you divide the **dot product** of the two vectors by the product of their lengths:\n",
    "This process scales the lengths of the vectors to 1, making the measure invariant with respect to magnitude.\n",
    "\n",
    "It is particularly useful when you want to compare vectors **solely based on their direction**, without their length influencing the result.\n",
    "\n",
    "interpretation cos θ:\n",
    "- cos (θ) = 1 →vectors in the same direction\n",
    "- cos( θ) = 0 → perpendicular vectors\n",
    "- cos (θ) = −1 → opposite vectors"
   ]
  },
  {
   "cell_type": "code",
   "execution_count": null,
   "id": "cced7a46",
   "metadata": {},
   "outputs": [],
   "source": [
    "# Compute dot product\n",
    "dot = np.dot(a, b)\n",
    "\n",
    "# Compute norms (magnitudes)\n",
    "norm_a = np.linalg.norm(a)\n",
    "norm_b = np.linalg.norm(b)\n",
    "\n",
    "# Calculate cosine similarity\n",
    "cosine_similarity = dot / (norm_a * norm_b)\n",
    "\n",
    "print(cosine_similarity)  # Expected output: 0.9746318461970762"
   ]
  }
 ],
 "metadata": {
  "kernelspec": {
   "display_name": "Python 3",
   "language": "python",
   "name": "python3"
  },
  "language_info": {
   "codemirror_mode": {
    "name": "ipython",
    "version": 3
   },
   "file_extension": ".py",
   "mimetype": "text/x-python",
   "name": "python",
   "nbconvert_exporter": "python",
   "pygments_lexer": "ipython3",
   "version": "3.13.2"
  }
 },
 "nbformat": 4,
 "nbformat_minor": 5
}
