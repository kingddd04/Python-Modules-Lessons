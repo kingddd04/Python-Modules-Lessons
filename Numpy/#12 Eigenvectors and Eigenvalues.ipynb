{
 "cells": [
  {
   "cell_type": "markdown",
   "id": "6333761c",
   "metadata": {},
   "source": [
    "# Eigenvectors and Eigenvalues in Linear Algebra\n",
    "\n",
    "## Definition\n",
    "\n",
    "# An eigenvector `v` of a matrix `A` is a non-zero vector that, when multiplied by `A`,\n",
    "# maintains its direction and is only scaled:\n",
    "\n",
    "# A * v = λ * v\n",
    "\n",
    "# Where:\n",
    "# - `λ` is the eigenvalue associated with `v`, representing the scalar factor of the transformation.\n",
    "# - Geometrically, eigenvectors are invariant directions: they do not rotate or change orientation,\n",
    "#   but are only scaled (possibly inverted if `λ` is negative).\n",
    "\n",
    "## Matrix Definiteness\n",
    "\n",
    "# A matrix with only positive eigenvalues is called a **positive definite matrix**.\n",
    "\n",
    "# A matrix with only negative eigenvalues is called a **negative definite matrix**."
   ]
  }
 ],
 "metadata": {
  "language_info": {
   "name": "python"
  }
 },
 "nbformat": 4,
 "nbformat_minor": 5
}
