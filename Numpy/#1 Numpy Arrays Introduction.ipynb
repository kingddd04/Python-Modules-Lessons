{
 "cells": [
  {
   "cell_type": "markdown",
   "id": "2e152b3a",
   "metadata": {},
   "source": [
    "# 📊 Introduction to NumPy Arrays\n",
    "NumPy arrays are the foundation of numerical computing in Numpy. They are more efficient and fast than Python lists and support powerful operations for data manipulation.\n",
    "They are often called vector in vectorial math\n",
    "\n",
    "They also have some key limits:\n",
    "    \n",
    "    - Fixed Lenght, you cannot change the their lenght (like other languages)\n",
    "    \n",
    "    - They can contain a single type of data type for efficiency reasons \n",
    "    \n",
    "    - They can contain other arrays within and in this way they can aquire new dimensions, 2d arrays are called matrixes and arrays with two or more dimensions are called tensors\n",
    "\n",
    "    - They must have values inside them inizialized at some value they cannot contain none\n",
    "\n",
    "\n",
    "## How create a simple array? "
   ]
  },
  {
   "cell_type": "code",
   "execution_count": null,
   "id": "34d6721e",
   "metadata": {},
   "outputs": [
    {
     "name": "stdout",
     "output_type": "stream",
     "text": [
      "[1 2 3 4 5 6]\n"
     ]
    }
   ],
   "source": [
    "import numpy as np\n",
    "\n",
    "arr = np.array([1,2,3,4,5,6]) # array creation\n",
    "print(arr)"
   ]
  },
  {
   "cell_type": "markdown",
   "id": "cdcd9f2b",
   "metadata": {},
   "source": [
    "## Accessing Elements with slicing\n",
    "\n",
    "We can access element or elements of the array using the wanted index inside square brackets "
   ]
  },
  {
   "cell_type": "code",
   "execution_count": null,
   "id": "3a1d7db2",
   "metadata": {},
   "outputs": [
    {
     "name": "stdout",
     "output_type": "stream",
     "text": [
      "1\n",
      "[2 3 4 5]\n",
      "[222   2   3   4   5   6]\n"
     ]
    }
   ],
   "source": [
    "print(arr[0])\n",
    "print(arr[1:-1])\n",
    "arr[0] = 222  # updating an element\n",
    "print(arr)\n"
   ]
  },
  {
   "cell_type": "markdown",
   "id": "880df786",
   "metadata": {},
   "source": [
    "## Multidimensional Arrays\n",
    "\n",
    "Arrays can contain other arrays, which may themselves contain other arrays, and so on — potentially endlessly. Each level of nesting introduces a new dimension called axis or rank, allowing us to represent increasingly complex structures.\n",
    "Different rank arrays are used for representing different type of things in data science :\n",
    "\n",
    "- A 1D array is like a simple list: a sequence of values.\n",
    "- A 2D array is like a matrix: rows and columns, they are called for this reason \"matrix\".\n",
    "- A 3D array adds depth: imagine a stack of matrices, when rank is 3 or more they are called \"tensors\".\n",
    "- Higher dimensions (4D, 5D, etc.) are used in advanced applications like image processing, scientific simulations, and machine learning\n",
    "\n",
    "\n",
    "\n",
    "## Creating a Matrix and a Tensor with a specified data type"
   ]
  },
  {
   "cell_type": "code",
   "execution_count": null,
   "id": "5845cebb",
   "metadata": {},
   "outputs": [
    {
     "name": "stdout",
     "output_type": "stream",
     "text": [
      "-----This is a 2d array----------\n",
      " [['22' '33' '44']\n",
      " ['55' '88' '99']\n",
      " ['99' '444' '444']]\n",
      "\n",
      "-------This is a 3d array-------\n",
      " [[['22' '33' '44']\n",
      "  ['55' '88' '99']\n",
      "  ['99' '444' '444']]\n",
      "\n",
      " [['22' '33' '44']\n",
      "  ['55' '88' '99']\n",
      "  ['99' '444' '444']]]\n"
     ]
    }
   ],
   "source": [
    "matrix = np.array([   #2d\n",
    "    [22,33,44],\n",
    "    [55,88,99],\n",
    "    [99,444,444]\n",
    "], dtype=str) #  We are specifying wich data type we want the array to contain\n",
    "\n",
    "tensor = np.array([matrix, matrix, matrix])  #3d\n",
    "\n",
    "print(\"-----This is a 2d array----------\\n\",matrix)\n",
    "\n",
    "print(\"\\n-------This is a 3d array-------\\n\", tensor)"
   ]
  },
  {
   "cell_type": "markdown",
   "id": "74b151cd",
   "metadata": {},
   "source": [
    "## Accessing elements in the Tensor and the Matrix"
   ]
  },
  {
   "cell_type": "code",
   "execution_count": 21,
   "id": "22f461c4",
   "metadata": {},
   "outputs": [
    {
     "name": "stdout",
     "output_type": "stream",
     "text": [
      "Element at -y : 1, -x : 0 of the Matrix  55\n",
      "Element at -z : 1 , y : 2, x : 3 of the Tensor 99\n"
     ]
    }
   ],
   "source": [
    "print(\"Element at -y : 1, -x : 0 of the Matrix \", matrix[1][0]) # Second list , first index \n",
    "\n",
    "print(\"Element at -z : 1 , y : 2, x : 3 of the Tensor\", tensor[0][1][2])  # First Matrix , second list , second index"
   ]
  },
  {
   "cell_type": "markdown",
   "id": "1ebc7191",
   "metadata": {},
   "source": [
    "## Accessing to size and dimensions of array , matrices and tensors, and the data type it contains"
   ]
  },
  {
   "cell_type": "code",
   "execution_count": null,
   "id": "e9b11548",
   "metadata": {},
   "outputs": [
    {
     "name": "stdout",
     "output_type": "stream",
     "text": [
      "Array lenght :  6\n",
      "Tensor dimensions :  (2, 3, 3)\n",
      "Tensor total number of element :  18\n",
      "Number of dimensions of the tensor :  3\n",
      "Data type of the matrix : <U3\n"
     ]
    }
   ],
   "source": [
    "print(\"Array lenght : \", len(arr)) # show the most outer dimension, indexing can be used to go deeper in case of multiple dimensions\n",
    "print(\"Tensor dimensions : \", tensor.shape) # retrned in a tuple from the most outer in this case : z x y \n",
    "print(\"Tensor total number of element : \", tensor.size) # shows how many single elements are in the tensor\n",
    "print(\"Number of dimensions of the tensor : \",  tensor.ndim) # shows how many dimensions has the tensor\n",
    "print(\"Data type of the matrix :\", matrix.dtype) # show the datatype of the matrix"
   ]
  }
 ],
 "metadata": {
  "kernelspec": {
   "display_name": "Python 3",
   "language": "python",
   "name": "python3"
  },
  "language_info": {
   "codemirror_mode": {
    "name": "ipython",
    "version": 3
   },
   "file_extension": ".py",
   "mimetype": "text/x-python",
   "name": "python",
   "nbconvert_exporter": "python",
   "pygments_lexer": "ipython3",
   "version": "3.13.2"
  }
 },
 "nbformat": 4,
 "nbformat_minor": 5
}
