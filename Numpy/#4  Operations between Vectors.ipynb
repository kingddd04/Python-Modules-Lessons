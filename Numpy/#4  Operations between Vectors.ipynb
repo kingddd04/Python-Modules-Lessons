{
 "cells": [
  {
   "cell_type": "markdown",
   "id": "a257eaba",
   "metadata": {},
   "source": [
    "# Operazions between vectors \n",
    "\n",
    "In this lesson we will study different operations between arrays in this context called vectors, they follow using vectorial math.\n",
    "They have to follow some basic rules that do not really change when adding dimension.\n",
    "These are :\n",
    "- Shape Compatibility Arrays must have compatible shapes. If shapes differ, NumPy applies broadcasting rules to try to align them; warning: you can not broadcast everything into a conpatible vector; we will see broadcasting later in the next lesson.\n",
    "- Element-wise Logic Operations are applied to corresponding elements across arrays.\n",
    "- Adding dimensions (going from 1D to 2D or 3D) doesn’t change the logic"
   ]
  },
  {
   "cell_type": "code",
   "execution_count": null,
   "id": "c6aff542",
   "metadata": {},
   "outputs": [],
   "source": [
    "# Creating test Datas\n",
    "# Vectors MUST have the same shape to be operated, or a shape that can be broadcasted into a vector compatible with the other vector\n",
    "import numpy as np\n",
    "vec1 = np.array([2,3,4,5,6])\n",
    "vec2 = np.array([22,33,44,55,66])"
   ]
  },
  {
   "cell_type": "markdown",
   "id": "8ba1b694",
   "metadata": {},
   "source": [
    "## Adding two vectors"
   ]
  },
  {
   "cell_type": "code",
   "execution_count": 3,
   "id": "f65a0f3b",
   "metadata": {},
   "outputs": [
    {
     "name": "stdout",
     "output_type": "stream",
     "text": [
      "Sum of the two vectors :  [24 36 48 60 72]\n"
     ]
    }
   ],
   "source": [
    "sum_of_vectors = vec1 + vec2 # very intuitive\n",
    "print(\"Sum of the two vectors : \", sum_of_vectors)"
   ]
  },
  {
   "cell_type": "markdown",
   "id": "13c1fd23",
   "metadata": {},
   "source": [
    "## Difference of two vectors "
   ]
  },
  {
   "cell_type": "code",
   "execution_count": 4,
   "id": "560e515b",
   "metadata": {},
   "outputs": [
    {
     "name": "stdout",
     "output_type": "stream",
     "text": [
      "Difference of the two vectors v2 - v1:  [20 30 40 50 60]\n"
     ]
    }
   ],
   "source": [
    "difference_of_vectors = vec2 - vec1\n",
    "print(\"Difference of the two vectors v2 - v1: \", difference_of_vectors )"
   ]
  },
  {
   "cell_type": "markdown",
   "id": "7232893b",
   "metadata": {},
   "source": [
    "# Moltiplication between vectors "
   ]
  },
  {
   "cell_type": "code",
   "execution_count": 5,
   "id": "c9bb1feb",
   "metadata": {},
   "outputs": [
    {
     "name": "stdout",
     "output_type": "stream",
     "text": [
      "[ 44  99 176 275 396]\n"
     ]
    }
   ],
   "source": [
    "moltiplication_of_vectors = vec1 * vec2\n",
    "print(moltiplication_of_vectors)"
   ]
  },
  {
   "cell_type": "markdown",
   "id": "ce8919e1",
   "metadata": {},
   "source": [
    "## Division Between Vectors "
   ]
  },
  {
   "cell_type": "code",
   "execution_count": 6,
   "id": "40b5355e",
   "metadata": {},
   "outputs": [
    {
     "name": "stdout",
     "output_type": "stream",
     "text": [
      "[11 11 11 11 11]\n"
     ]
    }
   ],
   "source": [
    "division_of_vectors = vec2 // vec1 # we can use / or // to get as usual the rounded integer or the decimal float\n",
    "print(division_of_vectors)"
   ]
  },
  {
   "cell_type": "markdown",
   "id": "0be67b7f",
   "metadata": {},
   "source": [
    "## Operations between vectors and scalar \n",
    "\n",
    "This kind of operations are allowed by the broadcasting rules that allows this operation."
   ]
  },
  {
   "cell_type": "code",
   "execution_count": 7,
   "id": "eed2dd3f",
   "metadata": {},
   "outputs": [
    {
     "name": "stdout",
     "output_type": "stream",
     "text": [
      "Addition (vec2 + 11): [33 44 55 66 77]\n",
      "Subtraction (vec2 - 11): [11 22 33 44 55]\n",
      "Multiplication (vec2 * 11): [242 363 484 605 726]\n",
      "Integer Division (vec2 // 11): [2 3 4 5 6]\n"
     ]
    }
   ],
   "source": [
    "vec_add_scalar = vec2 +11\n",
    "vec_diff_scalar = vec2 -11\n",
    "vec_molt_scalar = vec2 * 11\n",
    "vec_div_scalar = vec2 // 11\n",
    "\n",
    "\n",
    "\n",
    "print(\"Addition (vec2 + 11):\", vec_add_scalar)\n",
    "print(\"Subtraction (vec2 - 11):\", vec_diff_scalar)\n",
    "print(\"Multiplication (vec2 * 11):\", vec_molt_scalar)\n",
    "print(\"Integer Division (vec2 // 11):\", vec_div_scalar)"
   ]
  },
  {
   "cell_type": "markdown",
   "id": "9f5a6590",
   "metadata": {},
   "source": [
    "## Array Compatibility and Broadcasting\n",
    "\n",
    "Broadcasting is NumPy’s mechanism for performing operations between arrays of different shapes. It allows smaller arrays to be automatically expanded to match the shape of larger ones — without copying data — enabling fast and memory-efficient computations.\n",
    "\n",
    "    -> Example to explain the basic concept : arr_1 = 9; + arr_2 = (3,3,3)\n",
    "    -> Arr_1_broadcasted : Arr_1_broadcasted = 9,9,9 x 3,3,3(arr_2) = 27, 27 ,27\n",
    "\n",
    "## When two array are broadcast compatible?\n",
    "To determine if two arrays are broadcast-compatible, align the entries of their shapes such that their trailing dimensions are aligned, and then check that each pair of aligned dimensions satisfy at least one of the following rules:\n",
    "-  The aligned dimensions have the same size\n",
    "-  One of the dimensions has a size of 1\n",
    "\n",
    "Let's see an example!\n",
    "\n",
    "arr1.shape = 10 88 77 29\n",
    "\n",
    "arr2.shape = __ 88 1  1 \n",
    "\n",
    "---They are compatible!---\n",
    "\n",
    "##### Let's see a code example :\n",
    "\n",
    "     "
   ]
  },
  {
   "cell_type": "code",
   "execution_count": 14,
   "id": "aed1de6c",
   "metadata": {},
   "outputs": [
    {
     "name": "stdout",
     "output_type": "stream",
     "text": [
      "arr1.shape: (3, 14, 7, 1)\n",
      "arr2.shape: (14, 1, 1)\n",
      "result.shape: (3, 14, 7, 1)\n"
     ]
    }
   ],
   "source": [
    "arr1 = np.ones((3, 14, 7, 1))\n",
    "\n",
    "arr2 = np.ones((14, 1, 1))\n",
    "\n",
    "# Broadcasted addition\n",
    "arr_result = arr1 + arr2 \n",
    "\n",
    "\n",
    "print(\"arr1.shape:\", arr1.shape)\n",
    "print(\"arr2.shape:\", arr2.shape)\n",
    "print(\"result.shape:\", arr_result.shape)"
   ]
  },
  {
   "cell_type": "code",
   "execution_count": null,
   "id": "6e1d3422",
   "metadata": {},
   "outputs": [],
   "source": [
    "list_3d = [\n",
    "    [\n",
    "    [1,2,4],\n",
    "    [1,2,3],\n",
    "    [1,2,3],\n",
    "    ],\n",
    "    [\n",
    "    [1,2,3],\n",
    "    [1,2,3],\n",
    "    [1,2,10],\n",
    "    ],\n",
    "    [\n",
    "    [3,2,3],\n",
    "    [1,2,3],\n",
    "    [2,2,3],\n",
    "    ]\n",
    "] \n",
    "\n",
    "array_3d = np.array(list_3d)"
   ]
  },
  {
   "cell_type": "markdown",
   "id": "83be7b0b",
   "metadata": {},
   "source": [
    "# Executing aggregation functions on the array or parts of it "
   ]
  },
  {
   "cell_type": "code",
   "execution_count": null,
   "id": "b6fdda34",
   "metadata": {},
   "outputs": [
    {
     "name": "stdout",
     "output_type": "stream",
     "text": [
      "\n",
      "🔷 Original array (shape (3, 3, 3)):\n",
      "\n",
      "\n",
      "📐 Sum across axis=2 (columns → each row becomes a single number):\n",
      "[[ 7  6  6]\n",
      " [ 6  6 13]\n",
      " [ 8  6  7]]\n",
      "\n",
      "📏 Sum across axis=1 (rows → each block becomes a single row):\n",
      "[[ 3  6 10]\n",
      " [ 3  6 16]\n",
      " [ 6  6  9]]\n",
      "\n",
      "📊 Sum across axis=0 (blocks → same positions across blocks are added):\n",
      "[[ 5  6 10]\n",
      " [ 3  6  9]\n",
      " [ 4  6 16]]\n"
     ]
    }
   ],
   "source": [
    "# Sum across axis=2 (columns)\n",
    "sum_axis2 = array_3d.sum(axis=2)\n",
    "print(f\"\\n📐 Sum across axis=2 (columns → each row becomes a single number):\")\n",
    "print(sum_axis2)\n",
    "\n",
    "# Sum across axis=1 (rows)\n",
    "sum_axis1 = array_3d.sum(axis=1)\n",
    "print(f\"\\n📏 Sum across axis=1 (rows → each block becomes a single row):\")\n",
    "print(sum_axis1)\n",
    "\n",
    "# Sum across axis=0 (blocks)\n",
    "sum_axis0 = array_3d.sum(axis=0)\n",
    "print(f\"\\n📊 Sum across axis=0 (blocks → same positions across blocks are added):\")\n",
    "print(sum_axis0)"
   ]
  }
 ],
 "metadata": {
  "kernelspec": {
   "display_name": "Python 3",
   "language": "python",
   "name": "python3"
  },
  "language_info": {
   "codemirror_mode": {
    "name": "ipython",
    "version": 3
   },
   "file_extension": ".py",
   "mimetype": "text/x-python",
   "name": "python",
   "nbconvert_exporter": "python",
   "pygments_lexer": "ipython3",
   "version": "3.13.2"
  }
 },
 "nbformat": 4,
 "nbformat_minor": 5
}
